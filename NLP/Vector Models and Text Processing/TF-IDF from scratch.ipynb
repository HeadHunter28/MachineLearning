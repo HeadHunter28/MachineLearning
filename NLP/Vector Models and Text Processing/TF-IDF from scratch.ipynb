{
 "cells": [
  {
   "cell_type": "code",
   "execution_count": null,
   "id": "270109d5",
   "metadata": {},
   "outputs": [],
   "source": []
  },
  {
   "cell_type": "code",
   "execution_count": null,
   "id": "ac0ed347",
   "metadata": {},
   "outputs": [],
   "source": [
    "import pandas as pd\n",
    "import numpy as np\n",
    "import nltk\n",
    "from nltk import word_tokenize"
   ]
  },
  {
   "cell_type": "code",
   "execution_count": null,
   "id": "638e5759",
   "metadata": {},
   "outputs": [],
   "source": [
    "nltk.download('punkt')"
   ]
  },
  {
   "cell_type": "code",
   "execution_count": null,
   "id": "18ca1741",
   "metadata": {},
   "outputs": [],
   "source": [
    "df1= pd.read_csv(\"bbc_text_cls.csv\")"
   ]
  },
  {
   "cell_type": "code",
   "execution_count": null,
   "id": "ed89be09",
   "metadata": {},
   "outputs": [],
   "source": [
    "df1.head"
   ]
  },
  {
   "cell_type": "code",
   "execution_count": null,
   "id": "71ed01ce",
   "metadata": {},
   "outputs": [],
   "source": [
    "df1.describe"
   ]
  },
  {
   "cell_type": "code",
   "execution_count": null,
   "id": "f84a9822",
   "metadata": {},
   "outputs": [],
   "source": [
    "doc_as_int=[]\n",
    "tokenised_docs=[]"
   ]
  },
  {
   "cell_type": "code",
   "execution_count": null,
   "id": "f64bd16b",
   "metadata": {},
   "outputs": [],
   "source": [
    "current_idx=0\n",
    "word2idx={}\n",
    "\n",
    "for doc in df1[\"text\"]:\n",
    "    tokens=word_tokenize(doc)\n",
    "    for token in tokens :\n",
    "        if token not in word2idx:\n",
    "            word2idx[token]=current_idx\n",
    "            current_idx+=1\n",
    "            doc_as_int.append(word2idx[token])"
   ]
  },
  {
   "cell_type": "code",
   "execution_count": null,
   "id": "8d49f144",
   "metadata": {},
   "outputs": [],
   "source": [
    "tokenised_docs.append(doc_as_int)"
   ]
  },
  {
   "cell_type": "code",
   "execution_count": null,
   "id": "e69f4323",
   "metadata": {},
   "outputs": [],
   "source": [
    "word2idx.items()"
   ]
  },
  {
   "cell_type": "code",
   "execution_count": null,
   "id": "3a139d42",
   "metadata": {},
   "outputs": [],
   "source": [
    "idx2word ={a:b for b,a in word2idx.items()}"
   ]
  },
  {
   "cell_type": "code",
   "execution_count": null,
   "id": "204b8258",
   "metadata": {},
   "outputs": [],
   "source": [
    "idx2word"
   ]
  },
  {
   "cell_type": "code",
   "execution_count": null,
   "id": "06bcf0b3",
   "metadata": {},
   "outputs": [],
   "source": [
    "N= len(df1['text'])\n",
    "N"
   ]
  },
  {
   "cell_type": "code",
   "execution_count": null,
   "id": "3bd4c472",
   "metadata": {},
   "outputs": [],
   "source": [
    "V= len(word2idx)\n",
    "V"
   ]
  },
  {
   "cell_type": "code",
   "execution_count": null,
   "id": "7ce96b7a",
   "metadata": {},
   "outputs": [],
   "source": [
    "tokenised_docs"
   ]
  },
  {
   "cell_type": "markdown",
   "id": "38a9862c",
   "metadata": {},
   "source": [
    "Create a matrix to mimic count vectorizer. \n",
    "\n",
    "The index of columns can be linked back to words."
   ]
  },
  {
   "cell_type": "code",
   "execution_count": null,
   "id": "670ba49f",
   "metadata": {},
   "outputs": [],
   "source": [
    "tf= np.zeros((N,V)) "
   ]
  },
  {
   "cell_type": "markdown",
   "id": "7a5798fa",
   "metadata": {},
   "source": [
    "Populate it with term frequency"
   ]
  },
  {
   "cell_type": "code",
   "execution_count": null,
   "id": "81545d64",
   "metadata": {},
   "outputs": [],
   "source": [
    "for i, doc_as_int in enumerate(tokenised_docs):\n",
    "    for j in doc_as_int:\n",
    "        tf[i,j]+=1"
   ]
  },
  {
   "cell_type": "markdown",
   "id": "fe151f4a",
   "metadata": {},
   "source": [
    "Generate the sum of each word, which in the tf matrix, is the column.\n",
    "\n",
    "Here, document_freq is an array that stores the sum of each column of tf matrix, where each column \n",
    " is indicative of each token/word."
   ]
  },
  {
   "cell_type": "code",
   "execution_count": null,
   "id": "3afce957",
   "metadata": {},
   "outputs": [],
   "source": [
    "document_freq=np.sum(tf>0,axis=0)"
   ]
  },
  {
   "cell_type": "markdown",
   "id": "9bb1bac3",
   "metadata": {},
   "source": [
    "idf can be calculated by using the known formula. \n",
    "\n",
    "here, an array is generated for each corresponding column/word."
   ]
  },
  {
   "cell_type": "code",
   "execution_count": null,
   "id": "4953f572",
   "metadata": {},
   "outputs": [],
   "source": [
    "idf = np.log(N/document_freq)\n",
    "idf"
   ]
  },
  {
   "cell_type": "markdown",
   "id": "d4bb4afc",
   "metadata": {},
   "source": [
    "TF IDF can now be calculated."
   ]
  },
  {
   "cell_type": "code",
   "execution_count": null,
   "id": "057e3617",
   "metadata": {},
   "outputs": [],
   "source": [
    "tf_idf= tf * idf"
   ]
  },
  {
   "cell_type": "markdown",
   "id": "4af37a51",
   "metadata": {},
   "source": []
  },
  {
   "cell_type": "code",
   "execution_count": null,
   "id": "dbf01c89",
   "metadata": {},
   "outputs": [],
   "source": [
    "np.random.seed(123)"
   ]
  },
  {
   "cell_type": "code",
   "execution_count": null,
   "id": "aef0d963",
   "metadata": {},
   "outputs": [],
   "source": [
    "i=np.random.choice(N)\n",
    "row= df1.iloc[i]\n",
    "print(\"Label :\",row['labels'])\n",
    "print(\"Text :\",row['text'].split(\"\\n\",1)[0])\n",
    "print(\"Top 5 terms :\")\n",
    "\n",
    "scores= tf_idf[i]\n",
    "indices= (-scores).argsort()\n",
    "\n",
    "for j in indices[:5]:\n",
    "    print(idx2word[j])"
   ]
  },
  {
   "cell_type": "code",
   "execution_count": null,
   "id": "8253a3da",
   "metadata": {},
   "outputs": [],
   "source": []
  },
  {
   "cell_type": "code",
   "execution_count": null,
   "id": "2b3ec935",
   "metadata": {},
   "outputs": [],
   "source": []
  },
  {
   "cell_type": "code",
   "execution_count": null,
   "id": "b563d665",
   "metadata": {},
   "outputs": [],
   "source": []
  },
  {
   "cell_type": "code",
   "execution_count": null,
   "id": "8c1525eb",
   "metadata": {},
   "outputs": [],
   "source": []
  },
  {
   "cell_type": "code",
   "execution_count": null,
   "id": "edea332a",
   "metadata": {},
   "outputs": [],
   "source": []
  },
  {
   "cell_type": "code",
   "execution_count": null,
   "id": "1137f0f9",
   "metadata": {},
   "outputs": [],
   "source": []
  },
  {
   "cell_type": "code",
   "execution_count": null,
   "id": "1eea829c",
   "metadata": {},
   "outputs": [],
   "source": []
  },
  {
   "cell_type": "code",
   "execution_count": null,
   "id": "8c0ba32b",
   "metadata": {},
   "outputs": [],
   "source": []
  }
 ],
 "metadata": {
  "kernelspec": {
   "display_name": "Python 3 (ipykernel)",
   "language": "python",
   "name": "python3"
  },
  "language_info": {
   "codemirror_mode": {
    "name": "ipython",
    "version": 3
   },
   "file_extension": ".py",
   "mimetype": "text/x-python",
   "name": "python",
   "nbconvert_exporter": "python",
   "pygments_lexer": "ipython3",
   "version": "3.11.1"
  }
 },
 "nbformat": 4,
 "nbformat_minor": 5
}
