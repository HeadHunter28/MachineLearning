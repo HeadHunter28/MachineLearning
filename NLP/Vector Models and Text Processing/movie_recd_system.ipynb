{
 "cells": [
  {
   "cell_type": "markdown",
   "id": "e8bd0f8f",
   "metadata": {},
   "source": [
    "The objective is to build a recommender system for movies, using TF-IDF method.\n",
    "\n",
    "A dataset containing titles, genres, keywords,synopsis etc. will be downloaded.\n",
    "https://www.kaggle.com/tmdb/tmdb-movie-metadata\n",
    "\n",
    "\n",
    "A query will have the title of a movie, which must be existing in the dataset, and top 5 recommendations must be provided based on the given movie."
   ]
  },
  {
   "cell_type": "markdown",
   "id": "47917261",
   "metadata": {},
   "source": []
  },
  {
   "cell_type": "markdown",
   "id": "a0c5d3b4",
   "metadata": {},
   "source": [
    "Importing all relevant libraries :"
   ]
  },
  {
   "cell_type": "code",
   "execution_count": 1,
   "id": "53d424d9",
   "metadata": {},
   "outputs": [],
   "source": [
    "import numpy as np\n",
    "import pandas as pd\n",
    "import matplotlib.pyplot as plt\n",
    "import json\n",
    "\n",
    "from sklearn.feature_extraction.text import TfidfVectorizer\n",
    "from sklearn.metrics.pairwise import cosine_similarity, euclidean_distances\n"
   ]
  },
  {
   "cell_type": "markdown",
   "id": "9e2c7724",
   "metadata": {},
   "source": []
  },
  {
   "cell_type": "markdown",
   "id": "db211a78",
   "metadata": {},
   "source": [
    "To download the requisite dataset :"
   ]
  },
  {
   "cell_type": "code",
   "execution_count": null,
   "id": "d84d3631",
   "metadata": {
    "scrolled": true
   },
   "outputs": [],
   "source": [
    "!wget https://lazyprogrammer.me/course_files/nlp/tmdb_5000_movies.csv\n"
   ]
  },
  {
   "cell_type": "markdown",
   "id": "ff972f4c",
   "metadata": {},
   "source": [
    "Reading the file as a dataframe :"
   ]
  },
  {
   "cell_type": "code",
   "execution_count": 3,
   "id": "3ec17ac7",
   "metadata": {},
   "outputs": [],
   "source": [
    "moviedata=pd.read_csv('tmdb_5000_movies.csv')\n"
   ]
  },
  {
   "cell_type": "code",
   "execution_count": 4,
   "id": "720c16a6",
   "metadata": {
    "scrolled": true
   },
   "outputs": [
    {
     "data": {
      "text/html": [
       "<div>\n",
       "<style scoped>\n",
       "    .dataframe tbody tr th:only-of-type {\n",
       "        vertical-align: middle;\n",
       "    }\n",
       "\n",
       "    .dataframe tbody tr th {\n",
       "        vertical-align: top;\n",
       "    }\n",
       "\n",
       "    .dataframe thead th {\n",
       "        text-align: right;\n",
       "    }\n",
       "</style>\n",
       "<table border=\"1\" class=\"dataframe\">\n",
       "  <thead>\n",
       "    <tr style=\"text-align: right;\">\n",
       "      <th></th>\n",
       "      <th>budget</th>\n",
       "      <th>genres</th>\n",
       "      <th>homepage</th>\n",
       "      <th>id</th>\n",
       "      <th>keywords</th>\n",
       "      <th>original_language</th>\n",
       "      <th>original_title</th>\n",
       "      <th>overview</th>\n",
       "      <th>popularity</th>\n",
       "      <th>production_companies</th>\n",
       "      <th>production_countries</th>\n",
       "      <th>release_date</th>\n",
       "      <th>revenue</th>\n",
       "      <th>runtime</th>\n",
       "      <th>spoken_languages</th>\n",
       "      <th>status</th>\n",
       "      <th>tagline</th>\n",
       "      <th>title</th>\n",
       "      <th>vote_average</th>\n",
       "      <th>vote_count</th>\n",
       "    </tr>\n",
       "  </thead>\n",
       "  <tbody>\n",
       "    <tr>\n",
       "      <th>0</th>\n",
       "      <td>237000000</td>\n",
       "      <td>[{\"id\": 28, \"name\": \"Action\"}, {\"id\": 12, \"nam...</td>\n",
       "      <td>http://www.avatarmovie.com/</td>\n",
       "      <td>19995</td>\n",
       "      <td>[{\"id\": 1463, \"name\": \"culture clash\"}, {\"id\":...</td>\n",
       "      <td>en</td>\n",
       "      <td>Avatar</td>\n",
       "      <td>In the 22nd century, a paraplegic Marine is di...</td>\n",
       "      <td>150.437577</td>\n",
       "      <td>[{\"name\": \"Ingenious Film Partners\", \"id\": 289...</td>\n",
       "      <td>[{\"iso_3166_1\": \"US\", \"name\": \"United States o...</td>\n",
       "      <td>2009-12-10</td>\n",
       "      <td>2787965087</td>\n",
       "      <td>162.0</td>\n",
       "      <td>[{\"iso_639_1\": \"en\", \"name\": \"English\"}, {\"iso...</td>\n",
       "      <td>Released</td>\n",
       "      <td>Enter the World of Pandora.</td>\n",
       "      <td>Avatar</td>\n",
       "      <td>7.2</td>\n",
       "      <td>11800</td>\n",
       "    </tr>\n",
       "    <tr>\n",
       "      <th>1</th>\n",
       "      <td>300000000</td>\n",
       "      <td>[{\"id\": 12, \"name\": \"Adventure\"}, {\"id\": 14, \"...</td>\n",
       "      <td>http://disney.go.com/disneypictures/pirates/</td>\n",
       "      <td>285</td>\n",
       "      <td>[{\"id\": 270, \"name\": \"ocean\"}, {\"id\": 726, \"na...</td>\n",
       "      <td>en</td>\n",
       "      <td>Pirates of the Caribbean: At World's End</td>\n",
       "      <td>Captain Barbossa, long believed to be dead, ha...</td>\n",
       "      <td>139.082615</td>\n",
       "      <td>[{\"name\": \"Walt Disney Pictures\", \"id\": 2}, {\"...</td>\n",
       "      <td>[{\"iso_3166_1\": \"US\", \"name\": \"United States o...</td>\n",
       "      <td>2007-05-19</td>\n",
       "      <td>961000000</td>\n",
       "      <td>169.0</td>\n",
       "      <td>[{\"iso_639_1\": \"en\", \"name\": \"English\"}]</td>\n",
       "      <td>Released</td>\n",
       "      <td>At the end of the world, the adventure begins.</td>\n",
       "      <td>Pirates of the Caribbean: At World's End</td>\n",
       "      <td>6.9</td>\n",
       "      <td>4500</td>\n",
       "    </tr>\n",
       "    <tr>\n",
       "      <th>2</th>\n",
       "      <td>245000000</td>\n",
       "      <td>[{\"id\": 28, \"name\": \"Action\"}, {\"id\": 12, \"nam...</td>\n",
       "      <td>http://www.sonypictures.com/movies/spectre/</td>\n",
       "      <td>206647</td>\n",
       "      <td>[{\"id\": 470, \"name\": \"spy\"}, {\"id\": 818, \"name...</td>\n",
       "      <td>en</td>\n",
       "      <td>Spectre</td>\n",
       "      <td>A cryptic message from Bond’s past sends him o...</td>\n",
       "      <td>107.376788</td>\n",
       "      <td>[{\"name\": \"Columbia Pictures\", \"id\": 5}, {\"nam...</td>\n",
       "      <td>[{\"iso_3166_1\": \"GB\", \"name\": \"United Kingdom\"...</td>\n",
       "      <td>2015-10-26</td>\n",
       "      <td>880674609</td>\n",
       "      <td>148.0</td>\n",
       "      <td>[{\"iso_639_1\": \"fr\", \"name\": \"Fran\\u00e7ais\"},...</td>\n",
       "      <td>Released</td>\n",
       "      <td>A Plan No One Escapes</td>\n",
       "      <td>Spectre</td>\n",
       "      <td>6.3</td>\n",
       "      <td>4466</td>\n",
       "    </tr>\n",
       "    <tr>\n",
       "      <th>3</th>\n",
       "      <td>250000000</td>\n",
       "      <td>[{\"id\": 28, \"name\": \"Action\"}, {\"id\": 80, \"nam...</td>\n",
       "      <td>http://www.thedarkknightrises.com/</td>\n",
       "      <td>49026</td>\n",
       "      <td>[{\"id\": 849, \"name\": \"dc comics\"}, {\"id\": 853,...</td>\n",
       "      <td>en</td>\n",
       "      <td>The Dark Knight Rises</td>\n",
       "      <td>Following the death of District Attorney Harve...</td>\n",
       "      <td>112.312950</td>\n",
       "      <td>[{\"name\": \"Legendary Pictures\", \"id\": 923}, {\"...</td>\n",
       "      <td>[{\"iso_3166_1\": \"US\", \"name\": \"United States o...</td>\n",
       "      <td>2012-07-16</td>\n",
       "      <td>1084939099</td>\n",
       "      <td>165.0</td>\n",
       "      <td>[{\"iso_639_1\": \"en\", \"name\": \"English\"}]</td>\n",
       "      <td>Released</td>\n",
       "      <td>The Legend Ends</td>\n",
       "      <td>The Dark Knight Rises</td>\n",
       "      <td>7.6</td>\n",
       "      <td>9106</td>\n",
       "    </tr>\n",
       "    <tr>\n",
       "      <th>4</th>\n",
       "      <td>260000000</td>\n",
       "      <td>[{\"id\": 28, \"name\": \"Action\"}, {\"id\": 12, \"nam...</td>\n",
       "      <td>http://movies.disney.com/john-carter</td>\n",
       "      <td>49529</td>\n",
       "      <td>[{\"id\": 818, \"name\": \"based on novel\"}, {\"id\":...</td>\n",
       "      <td>en</td>\n",
       "      <td>John Carter</td>\n",
       "      <td>John Carter is a war-weary, former military ca...</td>\n",
       "      <td>43.926995</td>\n",
       "      <td>[{\"name\": \"Walt Disney Pictures\", \"id\": 2}]</td>\n",
       "      <td>[{\"iso_3166_1\": \"US\", \"name\": \"United States o...</td>\n",
       "      <td>2012-03-07</td>\n",
       "      <td>284139100</td>\n",
       "      <td>132.0</td>\n",
       "      <td>[{\"iso_639_1\": \"en\", \"name\": \"English\"}]</td>\n",
       "      <td>Released</td>\n",
       "      <td>Lost in our world, found in another.</td>\n",
       "      <td>John Carter</td>\n",
       "      <td>6.1</td>\n",
       "      <td>2124</td>\n",
       "    </tr>\n",
       "  </tbody>\n",
       "</table>\n",
       "</div>"
      ],
      "text/plain": [
       "      budget                                             genres  \\\n",
       "0  237000000  [{\"id\": 28, \"name\": \"Action\"}, {\"id\": 12, \"nam...   \n",
       "1  300000000  [{\"id\": 12, \"name\": \"Adventure\"}, {\"id\": 14, \"...   \n",
       "2  245000000  [{\"id\": 28, \"name\": \"Action\"}, {\"id\": 12, \"nam...   \n",
       "3  250000000  [{\"id\": 28, \"name\": \"Action\"}, {\"id\": 80, \"nam...   \n",
       "4  260000000  [{\"id\": 28, \"name\": \"Action\"}, {\"id\": 12, \"nam...   \n",
       "\n",
       "                                       homepage      id  \\\n",
       "0                   http://www.avatarmovie.com/   19995   \n",
       "1  http://disney.go.com/disneypictures/pirates/     285   \n",
       "2   http://www.sonypictures.com/movies/spectre/  206647   \n",
       "3            http://www.thedarkknightrises.com/   49026   \n",
       "4          http://movies.disney.com/john-carter   49529   \n",
       "\n",
       "                                            keywords original_language  \\\n",
       "0  [{\"id\": 1463, \"name\": \"culture clash\"}, {\"id\":...                en   \n",
       "1  [{\"id\": 270, \"name\": \"ocean\"}, {\"id\": 726, \"na...                en   \n",
       "2  [{\"id\": 470, \"name\": \"spy\"}, {\"id\": 818, \"name...                en   \n",
       "3  [{\"id\": 849, \"name\": \"dc comics\"}, {\"id\": 853,...                en   \n",
       "4  [{\"id\": 818, \"name\": \"based on novel\"}, {\"id\":...                en   \n",
       "\n",
       "                             original_title  \\\n",
       "0                                    Avatar   \n",
       "1  Pirates of the Caribbean: At World's End   \n",
       "2                                   Spectre   \n",
       "3                     The Dark Knight Rises   \n",
       "4                               John Carter   \n",
       "\n",
       "                                            overview  popularity  \\\n",
       "0  In the 22nd century, a paraplegic Marine is di...  150.437577   \n",
       "1  Captain Barbossa, long believed to be dead, ha...  139.082615   \n",
       "2  A cryptic message from Bond’s past sends him o...  107.376788   \n",
       "3  Following the death of District Attorney Harve...  112.312950   \n",
       "4  John Carter is a war-weary, former military ca...   43.926995   \n",
       "\n",
       "                                production_companies  \\\n",
       "0  [{\"name\": \"Ingenious Film Partners\", \"id\": 289...   \n",
       "1  [{\"name\": \"Walt Disney Pictures\", \"id\": 2}, {\"...   \n",
       "2  [{\"name\": \"Columbia Pictures\", \"id\": 5}, {\"nam...   \n",
       "3  [{\"name\": \"Legendary Pictures\", \"id\": 923}, {\"...   \n",
       "4        [{\"name\": \"Walt Disney Pictures\", \"id\": 2}]   \n",
       "\n",
       "                                production_countries release_date     revenue  \\\n",
       "0  [{\"iso_3166_1\": \"US\", \"name\": \"United States o...   2009-12-10  2787965087   \n",
       "1  [{\"iso_3166_1\": \"US\", \"name\": \"United States o...   2007-05-19   961000000   \n",
       "2  [{\"iso_3166_1\": \"GB\", \"name\": \"United Kingdom\"...   2015-10-26   880674609   \n",
       "3  [{\"iso_3166_1\": \"US\", \"name\": \"United States o...   2012-07-16  1084939099   \n",
       "4  [{\"iso_3166_1\": \"US\", \"name\": \"United States o...   2012-03-07   284139100   \n",
       "\n",
       "   runtime                                   spoken_languages    status  \\\n",
       "0    162.0  [{\"iso_639_1\": \"en\", \"name\": \"English\"}, {\"iso...  Released   \n",
       "1    169.0           [{\"iso_639_1\": \"en\", \"name\": \"English\"}]  Released   \n",
       "2    148.0  [{\"iso_639_1\": \"fr\", \"name\": \"Fran\\u00e7ais\"},...  Released   \n",
       "3    165.0           [{\"iso_639_1\": \"en\", \"name\": \"English\"}]  Released   \n",
       "4    132.0           [{\"iso_639_1\": \"en\", \"name\": \"English\"}]  Released   \n",
       "\n",
       "                                          tagline  \\\n",
       "0                     Enter the World of Pandora.   \n",
       "1  At the end of the world, the adventure begins.   \n",
       "2                           A Plan No One Escapes   \n",
       "3                                 The Legend Ends   \n",
       "4            Lost in our world, found in another.   \n",
       "\n",
       "                                      title  vote_average  vote_count  \n",
       "0                                    Avatar           7.2       11800  \n",
       "1  Pirates of the Caribbean: At World's End           6.9        4500  \n",
       "2                                   Spectre           6.3        4466  \n",
       "3                     The Dark Knight Rises           7.6        9106  \n",
       "4                               John Carter           6.1        2124  "
      ]
     },
     "execution_count": 4,
     "metadata": {},
     "output_type": "execute_result"
    }
   ],
   "source": [
    "moviedata.head()"
   ]
  },
  {
   "cell_type": "markdown",
   "id": "a399a70a",
   "metadata": {},
   "source": [
    "It is observed that some of the columns store values as json strings."
   ]
  },
  {
   "cell_type": "markdown",
   "id": "f66fb1ae",
   "metadata": {
    "scrolled": false
   },
   "source": [
    "Checking the first row of data, "
   ]
  },
  {
   "cell_type": "code",
   "execution_count": 5,
   "id": "ad23734c",
   "metadata": {},
   "outputs": [
    {
     "data": {
      "text/plain": [
       "budget                                                          237000000\n",
       "genres                  [{\"id\": 28, \"name\": \"Action\"}, {\"id\": 12, \"nam...\n",
       "homepage                                      http://www.avatarmovie.com/\n",
       "id                                                                  19995\n",
       "keywords                [{\"id\": 1463, \"name\": \"culture clash\"}, {\"id\":...\n",
       "original_language                                                      en\n",
       "original_title                                                     Avatar\n",
       "overview                In the 22nd century, a paraplegic Marine is di...\n",
       "popularity                                                     150.437577\n",
       "production_companies    [{\"name\": \"Ingenious Film Partners\", \"id\": 289...\n",
       "production_countries    [{\"iso_3166_1\": \"US\", \"name\": \"United States o...\n",
       "release_date                                                   2009-12-10\n",
       "revenue                                                        2787965087\n",
       "runtime                                                             162.0\n",
       "spoken_languages        [{\"iso_639_1\": \"en\", \"name\": \"English\"}, {\"iso...\n",
       "status                                                           Released\n",
       "tagline                                       Enter the World of Pandora.\n",
       "title                                                              Avatar\n",
       "vote_average                                                          7.2\n",
       "vote_count                                                          11800\n",
       "Name: 0, dtype: object"
      ]
     },
     "execution_count": 5,
     "metadata": {},
     "output_type": "execute_result"
    }
   ],
   "source": [
    "row1=moviedata.iloc[0]\n",
    "row1"
   ]
  },
  {
   "cell_type": "code",
   "execution_count": 6,
   "id": "74fc2f2e",
   "metadata": {},
   "outputs": [
    {
     "data": {
      "text/plain": [
       "'[{\"id\": 28, \"name\": \"Action\"}, {\"id\": 12, \"name\": \"Adventure\"}, {\"id\": 14, \"name\": \"Fantasy\"}, {\"id\": 878, \"name\": \"Science Fiction\"}]'"
      ]
     },
     "execution_count": 6,
     "metadata": {},
     "output_type": "execute_result"
    }
   ],
   "source": [
    "row1['genres']"
   ]
  },
  {
   "cell_type": "markdown",
   "id": "f6a20c61",
   "metadata": {},
   "source": [
    "This is a list of json strings, and the useful attribute here is \"name\", which contains the names of the genres."
   ]
  },
  {
   "cell_type": "code",
   "execution_count": 7,
   "id": "98f6d8ec",
   "metadata": {},
   "outputs": [
    {
     "data": {
      "text/plain": [
       "'[{\"id\": 1463, \"name\": \"culture clash\"}, {\"id\": 2964, \"name\": \"future\"}, {\"id\": 3386, \"name\": \"space war\"}, {\"id\": 3388, \"name\": \"space colony\"}, {\"id\": 3679, \"name\": \"society\"}, {\"id\": 3801, \"name\": \"space travel\"}, {\"id\": 9685, \"name\": \"futuristic\"}, {\"id\": 9840, \"name\": \"romance\"}, {\"id\": 9882, \"name\": \"space\"}, {\"id\": 9951, \"name\": \"alien\"}, {\"id\": 10148, \"name\": \"tribe\"}, {\"id\": 10158, \"name\": \"alien planet\"}, {\"id\": 10987, \"name\": \"cgi\"}, {\"id\": 11399, \"name\": \"marine\"}, {\"id\": 13065, \"name\": \"soldier\"}, {\"id\": 14643, \"name\": \"battle\"}, {\"id\": 14720, \"name\": \"love affair\"}, {\"id\": 165431, \"name\": \"anti war\"}, {\"id\": 193554, \"name\": \"power relations\"}, {\"id\": 206690, \"name\": \"mind and soul\"}, {\"id\": 209714, \"name\": \"3d\"}]'"
      ]
     },
     "execution_count": 7,
     "metadata": {},
     "output_type": "execute_result"
    }
   ],
   "source": [
    "row1['keywords']\n"
   ]
  },
  {
   "cell_type": "markdown",
   "id": "160f7fee",
   "metadata": {},
   "source": [
    "Even in this case, the only attribute required is \"name\"."
   ]
  },
  {
   "cell_type": "markdown",
   "id": "8b254463",
   "metadata": {},
   "source": [
    "We need to convert this json string to a usable format.\n",
    "json.loads() method can be used to parse a valid JSON string and\n",
    "convert it into a Python Dictionary, as implemented here"
   ]
  },
  {
   "cell_type": "code",
   "execution_count": 8,
   "id": "c1c0ac71",
   "metadata": {},
   "outputs": [
    {
     "data": {
      "text/plain": [
       "[{'id': 28, 'name': 'Action'},\n",
       " {'id': 12, 'name': 'Adventure'},\n",
       " {'id': 14, 'name': 'Fantasy'},\n",
       " {'id': 878, 'name': 'Science Fiction'}]"
      ]
     },
     "execution_count": 8,
     "metadata": {},
     "output_type": "execute_result"
    }
   ],
   "source": [
    "x1=json.loads(row1['genres'])\n",
    "x1"
   ]
  },
  {
   "cell_type": "markdown",
   "id": "587ff3d6",
   "metadata": {},
   "source": [
    "We need to convert this dictionary/json to a single string of text, such that it is appropriate for TFIDF."
   ]
  },
  {
   "cell_type": "code",
   "execution_count": 9,
   "id": "f07bc1c5",
   "metadata": {},
   "outputs": [
    {
     "data": {
      "text/plain": [
       "'Action Adventure Fantasy ScienceFiction'"
      ]
     },
     "execution_count": 9,
     "metadata": {},
     "output_type": "execute_result"
    }
   ],
   "source": [
    "\" \".join(\"\".join(x[\"name\"].split()) for x in x1)"
   ]
  },
  {
   "cell_type": "markdown",
   "id": "74b01148",
   "metadata": {},
   "source": [
    "Taking the \"name\" key of every entry, split it on whitespace, \n",
    "and join it back together using empty string '' (for cases like Science Fiction made to ScienceFiction)\n",
    "\n",
    "This will be done for all genre \"name\" elements, which are then joined by the final outer join() function, \n",
    "concatenating all genre tokens with a single whitespace between them."
   ]
  },
  {
   "cell_type": "markdown",
   "id": "d5fb3f13",
   "metadata": {},
   "source": [
    "We need to implement this for all genres and keywords of all rows over the entire dataset, \n",
    "implemented by :"
   ]
  },
  {
   "cell_type": "code",
   "execution_count": 10,
   "id": "2b209fce",
   "metadata": {},
   "outputs": [],
   "source": [
    "def genres_and_keywords_to_string(row):\n",
    "    genres=json.loads(row['genres'])\n",
    "    genres= \" \".join(\"\".join(x[\"name\"].split()) for x in genres)\n",
    "    \n",
    "    keywords=json.loads(row['keywords'])\n",
    "    keywords=\" \".join(\"\".join(y[\"name\"].split()) for y in keywords)\n",
    "    \n",
    "    combinedstring=\"%s %s\" %(genres,keywords)\n",
    "    \n",
    "    return combinedstring\n",
    "    \n",
    "    "
   ]
  },
  {
   "cell_type": "markdown",
   "id": "13738b86",
   "metadata": {},
   "source": [
    "This function converts the useful tokens from each json row's genres and keywords to a single string"
   ]
  },
  {
   "cell_type": "markdown",
   "id": "455e8caa",
   "metadata": {},
   "source": [
    "*It must be clear at this point that we are considering only the genres and keywords data to compare between the movies \n",
    "in the scope of this program."
   ]
  },
  {
   "cell_type": "markdown",
   "id": "b5c9c89f",
   "metadata": {},
   "source": [
    "Now, we can apply this function to each row, and generate a new column named string"
   ]
  },
  {
   "cell_type": "code",
   "execution_count": 11,
   "id": "165b4bc9",
   "metadata": {
    "scrolled": true
   },
   "outputs": [],
   "source": [
    "moviedata['string']=moviedata.apply(genres_and_keywords_to_string,axis=1)\n"
   ]
  },
  {
   "cell_type": "markdown",
   "id": "34325ce7",
   "metadata": {},
   "source": [
    "Now, we will create an instance of the TFIDF vectorizer"
   ]
  },
  {
   "cell_type": "code",
   "execution_count": 12,
   "id": "736ed045",
   "metadata": {},
   "outputs": [],
   "source": [
    "tfvectorizer=TfidfVectorizer(max_features=2000)"
   ]
  },
  {
   "cell_type": "code",
   "execution_count": 13,
   "id": "e8e870be",
   "metadata": {},
   "outputs": [],
   "source": [
    "M1= tfvectorizer.fit_transform(moviedata['string'])"
   ]
  },
  {
   "cell_type": "code",
   "execution_count": 14,
   "id": "d42cccd8",
   "metadata": {},
   "outputs": [
    {
     "data": {
      "text/plain": [
       "<4803x2000 sparse matrix of type '<class 'numpy.float64'>'\n",
       "\twith 37285 stored elements in Compressed Sparse Row format>"
      ]
     },
     "execution_count": 14,
     "metadata": {},
     "output_type": "execute_result"
    }
   ],
   "source": [
    "M1"
   ]
  },
  {
   "cell_type": "markdown",
   "id": "fcc18ffb",
   "metadata": {},
   "source": [
    "When we recieve a query, to correspond between the vectorizer matrix, and the original dataframe, we will use the index,\n",
    "as both are ordered in a similar manner."
   ]
  },
  {
   "cell_type": "markdown",
   "id": "d105095e",
   "metadata": {},
   "source": [
    "So, we need to generate a MAPPING FOR each movie title to its index in the dataframe :"
   ]
  },
  {
   "cell_type": "code",
   "execution_count": 15,
   "id": "8b32a67a",
   "metadata": {},
   "outputs": [],
   "source": [
    "movie2idx=pd.Series(moviedata.index,index=moviedata['title'])"
   ]
  },
  {
   "cell_type": "code",
   "execution_count": 16,
   "id": "e212d024",
   "metadata": {},
   "outputs": [
    {
     "data": {
      "text/plain": [
       "title\n",
       "Avatar                                         0\n",
       "Pirates of the Caribbean: At World's End       1\n",
       "Spectre                                        2\n",
       "The Dark Knight Rises                          3\n",
       "John Carter                                    4\n",
       "                                            ... \n",
       "El Mariachi                                 4798\n",
       "Newlyweds                                   4799\n",
       "Signed, Sealed, Delivered                   4800\n",
       "Shanghai Calling                            4801\n",
       "My Date with Drew                           4802\n",
       "Length: 4803, dtype: int64"
      ]
     },
     "execution_count": 16,
     "metadata": {},
     "output_type": "execute_result"
    }
   ],
   "source": [
    "movie2idx"
   ]
  },
  {
   "cell_type": "markdown",
   "id": "fe140b49",
   "metadata": {},
   "source": [
    "And now, a function to get the index of a movie from its title :"
   ]
  },
  {
   "cell_type": "code",
   "execution_count": 17,
   "id": "612eeb34",
   "metadata": {},
   "outputs": [],
   "source": [
    "def find_index(name):\n",
    "    return movie2idx[name]"
   ]
  },
  {
   "cell_type": "markdown",
   "id": "1dec40c9",
   "metadata": {},
   "source": [
    "Now, for example, we can get the index of the movie Scream 3 from the dataframe"
   ]
  },
  {
   "cell_type": "code",
   "execution_count": 18,
   "id": "2115d365",
   "metadata": {},
   "outputs": [
    {
     "data": {
      "text/plain": [
       "1164"
      ]
     },
     "execution_count": 18,
     "metadata": {},
     "output_type": "execute_result"
    }
   ],
   "source": [
    "j=find_index('Scream 3')\n",
    "j"
   ]
  },
  {
   "cell_type": "markdown",
   "id": "1cabebcc",
   "metadata": {},
   "source": [
    "And use that index to lookup the corresponding TFIDF vector for Scream 3 in the vectorizer's matrix (M1)"
   ]
  },
  {
   "cell_type": "code",
   "execution_count": 19,
   "id": "89cae1fd",
   "metadata": {},
   "outputs": [
    {
     "data": {
      "text/plain": [
       "array([[0., 0., 0., ..., 0., 0., 0.]])"
      ]
     },
     "execution_count": 19,
     "metadata": {},
     "output_type": "execute_result"
    }
   ],
   "source": [
    "query=M1[j]\n",
    "query.toarray()"
   ]
  },
  {
   "cell_type": "markdown",
   "id": "57ef0452",
   "metadata": {},
   "source": [
    "So, we have established a link between the vectorizer's matrix and the original dataframe."
   ]
  },
  {
   "cell_type": "markdown",
   "id": "0a6fe644",
   "metadata": {},
   "source": [
    "Now, assuming we have to obtained user's query, we have to find its similarity to the other movies in order to recommend\n",
    "similar ones \n",
    "i.e. we have to compute the similarity of the given movie's vector to the all the other movie vectors"
   ]
  },
  {
   "cell_type": "code",
   "execution_count": 20,
   "id": "a5f97b05",
   "metadata": {},
   "outputs": [
    {
     "data": {
      "text/plain": [
       "array([[0., 0., 0., ..., 0., 0., 0.]])"
      ]
     },
     "execution_count": 20,
     "metadata": {},
     "output_type": "execute_result"
    }
   ],
   "source": [
    "scores = cosine_similarity(query,M1)\n",
    "scores"
   ]
  },
  {
   "cell_type": "markdown",
   "id": "331cf609",
   "metadata": {},
   "source": [
    "The array storing the result of similarity scores is of dimension 1xN, so we have to make it a 1-D array"
   ]
  },
  {
   "cell_type": "code",
   "execution_count": 21,
   "id": "13254570",
   "metadata": {},
   "outputs": [],
   "source": [
    "scores= scores.flatten()"
   ]
  },
  {
   "cell_type": "code",
   "execution_count": 23,
   "id": "23fdee4e",
   "metadata": {},
   "outputs": [
    {
     "data": {
      "text/plain": [
       "[<matplotlib.lines.Line2D at 0x2028bf9d450>]"
      ]
     },
     "execution_count": 23,
     "metadata": {},
     "output_type": "execute_result"
    },
    {
     "data": {
      "image/png": "[encoded data removed]",
      "text/plain": [
       "<Figure size 640x480 with 1 Axes>"
      ]
     },
     "metadata": {},
     "output_type": "display_data"
    }
   ],
   "source": [
    "plt.plot(scores)"
   ]
  },
  {
   "cell_type": "markdown",
   "id": "8f4d9dab",
   "metadata": {},
   "source": [
    "Now, we need the most similar scores, that is the largest values of similarity scores.\n",
    "So we need to sort to sort them in descending order, \n",
    "\n",
    " To make things simpler, can use argsort() function, which orders a given set of elements, but reports the result indirectly usingthe existing manner of indexes.\n",
    "\n",
    "In this case, it will return the dataframe index of the movies in descending order of the movies's similarity scores.\n",
    "\n",
    "(-scores) is used to get the elements such that argsort(), which sorts in ascending order, will actually sort the scores in \n",
    "descending order."
   ]
  },
  {
   "cell_type": "code",
   "execution_count": 24,
   "id": "c2de2374",
   "metadata": {},
   "outputs": [],
   "source": [
    "result_scores =(-scores).argsort()"
   ]
  },
  {
   "cell_type": "code",
   "execution_count": 25,
   "id": "5de4a462",
   "metadata": {},
   "outputs": [
    {
     "data": {
      "text/plain": [
       "[<matplotlib.lines.Line2D at 0x2028b9a1a50>]"
      ]
     },
     "execution_count": 25,
     "metadata": {},
     "output_type": "execute_result"
    },
    {
     "data": {
      "image/png": "[encoded data removed]",
      "text/plain": [
       "<Figure size 640x480 with 1 Axes>"
      ]
     },
     "metadata": {},
     "output_type": "display_data"
    }
   ],
   "source": [
    "plt.plot((-scores).argsort())"
   ]
  },
  {
   "cell_type": "markdown",
   "id": "6c2d8dbd",
   "metadata": {},
   "source": [
    "Now that we have obtained the scores in descending order, we need to extract the top 5 scores of the movies.\n",
    "We have to ignore the first value, since the query movie will have the highest similairty score for itself.\n"
   ]
  },
  {
   "cell_type": "code",
   "execution_count": 26,
   "id": "82ff9474",
   "metadata": {},
   "outputs": [],
   "source": [
    "result_indices= result_scores[1:6]"
   ]
  },
  {
   "cell_type": "markdown",
   "id": "9ff608e8",
   "metadata": {},
   "source": [
    "And now to extract the corresponding movie titles for the indexes,"
   ]
  },
  {
   "cell_type": "code",
   "execution_count": 27,
   "id": "81ae34dd",
   "metadata": {},
   "outputs": [
    {
     "data": {
      "text/plain": [
       "3902    Friday the 13th Part VI: Jason Lives\n",
       "4628                          Graduation Day\n",
       "4053        Friday the 13th: A New Beginning\n",
       "4048                             The Calling\n",
       "1084                         The Glimmer Man\n",
       "Name: title, dtype: object"
      ]
     },
     "execution_count": 27,
     "metadata": {},
     "output_type": "execute_result"
    }
   ],
   "source": [
    "recd_movies=moviedata['title'].iloc[result_indices]\n",
    "recd_movies"
   ]
  },
  {
   "cell_type": "markdown",
   "id": "7cc1c3b0",
   "metadata": {},
   "source": [
    "Thus, from a query, we have obtained the 5 most similar movies."
   ]
  },
  {
   "cell_type": "markdown",
   "id": "83b19fbd",
   "metadata": {},
   "source": [
    "To implement the entire process as a function :"
   ]
  },
  {
   "cell_type": "code",
   "execution_count": 32,
   "id": "3947056a",
   "metadata": {},
   "outputs": [],
   "source": [
    "def get_recommendations(movie):\n",
    "    idX=find_index(movie)\n",
    "    if type(idX) == pd.Series:\n",
    "        idX=idX.iloc[0]\n",
    "    result= (-(cosine_similarity(M1[idX],M1).flatten())).argsort()[1:6]\n",
    "    print(moviedata['title'].iloc[result])\n",
    "    \n",
    "    \n",
    "    "
   ]
  },
  {
   "cell_type": "markdown",
   "id": "2086265b",
   "metadata": {},
   "source": [
    "For example :"
   ]
  },
  {
   "cell_type": "code",
   "execution_count": 33,
   "id": "2b544849",
   "metadata": {},
   "outputs": [
    {
     "name": "stdout",
     "output_type": "stream",
     "text": [
      "Enter movie :Fury\n",
      "586                  The Monuments Men\n",
      "3516                         The Train\n",
      "1787                  A Bridge Too Far\n",
      "4465               Saints and Soldiers\n",
      "2798    The Boy in the Striped Pyjamas\n",
      "Name: title, dtype: object\n",
      "None\n"
     ]
    }
   ],
   "source": [
    "quer=input(\"Enter movie :\")\n",
    "\n",
    "print(get_recommendations(quer))"
   ]
  }
 ],
 "metadata": {
  "kernelspec": {
   "display_name": "Python 3 (ipykernel)",
   "language": "python",
   "name": "python3"
  },
  "language_info": {
   "codemirror_mode": {
    "name": "ipython",
    "version": 3
   },
   "file_extension": ".py",
   "mimetype": "text/x-python",
   "name": "python",
   "nbconvert_exporter": "python",
   "pygments_lexer": "ipython3",
   "version": "3.11.1"
  }
 },
 "nbformat": 4,
 "nbformat_minor": 5
}
